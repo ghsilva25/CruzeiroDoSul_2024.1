{
  "nbformat": 4,
  "nbformat_minor": 0,
  "metadata": {
    "colab": {
      "provenance": []
    },
    "kernelspec": {
      "name": "python3",
      "display_name": "Python 3"
    },
    "language_info": {
      "name": "python"
    }
  },
  "cells": [
    {
      "cell_type": "markdown",
      "source": [
        "# Processamento de Imagens\n",
        "\n",
        "# Aula 5 - Representação por Histograma"
      ],
      "metadata": {
        "id": "2MdBr7jPHX8Y"
      }
    },
    {
      "cell_type": "markdown",
      "source": [
        "Nome Completo:\n",
        "\n",
        "RGM:\n",
        "\n",
        "Data:"
      ],
      "metadata": {
        "id": "nFnNshNzHX8i"
      }
    },
    {
      "cell_type": "code",
      "source": [
        "# Biblioteca OpenCV para manipulação de imagens\n",
        "import cv2 as cv\n",
        "from google.colab.patches import cv2_imshow # função imshow \"adaptada\" para poder funcionar no Colab\n",
        "import numpy as np\n",
        "\n",
        "# Pacote de funções para plot\n",
        "import matplotlib.pylab as plt\n",
        "\n",
        "# Pacote para importar as imagens\n",
        "import imageio as io"
      ],
      "metadata": {
        "id": "KgOrathFO1bA"
      },
      "execution_count": null,
      "outputs": []
    },
    {
      "cell_type": "markdown",
      "source": [
        "## **Parte 1 - Processamento de Histograma**"
      ],
      "metadata": {
        "id": "VM6gP-OpHX8j"
      }
    },
    {
      "cell_type": "markdown",
      "source": [
        "Alguns exemplos de histograma"
      ],
      "metadata": {
        "id": "ogJusBi9aM9A"
      }
    },
    {
      "cell_type": "code",
      "source": [
        "x = [21,22,23,4,5,6,77,8,9,10,31,32,33,34,35,36,37,18,49,50,100]\n",
        "num_bins = 5\n",
        "plt.hist(x, num_bins, facecolor='blue', alpha=1)"
      ],
      "metadata": {
        "id": "I7MmdNFyaC3M"
      },
      "execution_count": null,
      "outputs": []
    },
    {
      "cell_type": "code",
      "source": [
        "x = np.random.normal(170, 10, 250) #\n",
        "\n",
        "plt.hist(x, edgecolor='black');"
      ],
      "metadata": {
        "id": "S1zc9KVbaT3h"
      },
      "execution_count": null,
      "outputs": []
    },
    {
      "cell_type": "markdown",
      "source": [
        "Visualizando o histograma da imagem"
      ],
      "metadata": {
        "id": "KnLbPX9bYCl9"
      }
    },
    {
      "cell_type": "code",
      "source": [
        "url = \"https://pbs.twimg.com/profile_images/128974112/smallPout_400x400.png\"\n",
        "img = io.imread(url);\n",
        "img = cv.cvtColor(img, cv.COLOR_BGR2GRAY)\n",
        "cv2_imshow(img);"
      ],
      "metadata": {
        "id": "EUuNGYrRb4b_"
      },
      "execution_count": null,
      "outputs": []
    },
    {
      "cell_type": "code",
      "source": [
        "plt.figure(figsize = (9,4))\n",
        "plt.hist(img.ravel(), bins = 256, range = [0,255]); # Observe a utilização do \".ravel()\" na matriz da imagem!"
      ],
      "metadata": {
        "id": "tcBbnuPTaElF"
      },
      "execution_count": null,
      "outputs": []
    },
    {
      "cell_type": "markdown",
      "source": [
        "Observe que há um parâmetro alterando o número de `bins=256`. O padrão de `bins='auto'` não é útil neste intervalo de 8 bits: queremos exatamente 256 bins, um para cada valor de cinza. Em outros contextos, a classificação automática é bastante útil, mas não aqui."
      ],
      "metadata": {
        "id": "Dy4jghOZRzNq"
      }
    },
    {
      "cell_type": "code",
      "source": [
        "f, (ax1, ax2) = plt.subplots(1, 2, figsize=(15,5))\n",
        "ax1.hist(img.ravel(), bins = 256, range = [0,256]);\n",
        "ax2.hist(img.ravel());\n",
        "ax1.set_title('bins=256')\n",
        "ax2.set_title('bins=auto')"
      ],
      "metadata": {
        "id": "om9tPnABchyJ"
      },
      "execution_count": null,
      "outputs": []
    },
    {
      "cell_type": "code",
      "source": [
        "fig, ax = plt.subplots(figsize = (9,4))\n",
        "ax.hist(img.ravel(),bins = 256, range = [0,256], density=True); # Observe a utilização do \".ravel()\" na matriz da imagem!\n",
        "ax.set_title(\"Histograma Normalizado - Func. Densidade de Prob.\")"
      ],
      "metadata": {
        "id": "dzYueLW8SgXX"
      },
      "execution_count": null,
      "outputs": []
    },
    {
      "cell_type": "code",
      "source": [
        "f, (ax1, ax2) = plt.subplots(1, 2, figsize=(15,5))\n",
        "ax1.hist(img.ravel(),bins = 256, range = [0,256]); # Observe a utilização do \".ravel()\" na matriz da imagem!\n",
        "ax2.hist(img.ravel(),bins = 256, range = [0,256], cumulative=True, histtype='step', color='red'); # Observe a utilização do \".ravel()\" na matriz da imagem!\n",
        "ax1.set_title('Histograma')\n",
        "ax2.set_title('Histograma Cumulativo - CDF aproximada')"
      ],
      "metadata": {
        "id": "x7hg3SjXUT0D"
      },
      "execution_count": null,
      "outputs": []
    },
    {
      "cell_type": "code",
      "source": [
        "img_eq = cv.equalizeHist(img)\n",
        "cv2_imshow(img_eq);"
      ],
      "metadata": {
        "id": "R1tp146fV0ln"
      },
      "execution_count": null,
      "outputs": []
    },
    {
      "cell_type": "code",
      "source": [
        "f, (ax1, ax2) = plt.subplots(1, 2, figsize=(15,5))\n",
        "ax1.hist(img_eq.ravel(),bins = 256, range = [0,256]); # Observe a utilização do \".ravel()\" na matriz da imagem!\n",
        "ax2.hist(img_eq.ravel(),bins = 256, range = [0,256], cumulative=True, histtype='step', color='red'); # Observe a utilização do \".ravel()\" na matriz da imagem!\n",
        "ax1.set_title('Histograma')\n",
        "ax2.set_title('Histograma Cumulativo - CDF aproximada')"
      ],
      "metadata": {
        "id": "D2tbmE0paMEA"
      },
      "execution_count": null,
      "outputs": []
    },
    {
      "cell_type": "code",
      "source": [
        "# Comparativo das imagens\n",
        "f, (ax1, ax2) = plt.subplots(1, 2, figsize=(10,5))\n",
        "ax1.imshow(img, cmap='gray');\n",
        "ax2.imshow(img_eq, cmap='gray');"
      ],
      "metadata": {
        "id": "sL5S4dflZffw"
      },
      "execution_count": null,
      "outputs": []
    },
    {
      "cell_type": "code",
      "source": [],
      "metadata": {
        "id": "w8ox_TyJbY8B"
      },
      "execution_count": null,
      "outputs": []
    }
  ]
}