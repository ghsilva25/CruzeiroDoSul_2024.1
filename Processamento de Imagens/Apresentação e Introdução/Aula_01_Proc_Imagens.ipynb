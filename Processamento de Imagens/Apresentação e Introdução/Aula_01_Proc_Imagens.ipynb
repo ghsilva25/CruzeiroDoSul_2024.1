{
  "nbformat": 4,
  "nbformat_minor": 0,
  "metadata": {
    "colab": {
      "provenance": []
    },
    "kernelspec": {
      "name": "python3",
      "display_name": "Python 3"
    },
    "language_info": {
      "name": "python"
    }
  },
  "cells": [
    {
      "cell_type": "markdown",
      "source": [
        "# Processamento de Imagens - 2024\n",
        "\n",
        "# Aula 1 - Introdução às bibliotecas e operações básicas"
      ],
      "metadata": {
        "id": "2MdBr7jPHX8Y"
      }
    },
    {
      "cell_type": "markdown",
      "source": [
        "Nome Completo:\n",
        "\n",
        "RGM:\n",
        "\n",
        "Data:"
      ],
      "metadata": {
        "id": "nFnNshNzHX8i"
      }
    },
    {
      "cell_type": "markdown",
      "source": [
        "# Introdução"
      ],
      "metadata": {
        "id": "dIIZEgVuizIE"
      }
    },
    {
      "cell_type": "markdown",
      "source": [
        "#### O Google Colaboratory (ou Colab) permite utilizar recursos online (em nuvem) sem qualquer instalação para o desenvolvimento em python. Os documentos ou \"arquivos\" no Colab são chamados de *notebooks* e são organizado em [células](https://colab.research.google.com/notebooks/basic_features_overview.ipynb). As células em um notebook podem assumir dois tipos de conteúdo:"
      ],
      "metadata": {
        "id": "5OcHBt_Xi5ut"
      }
    },
    {
      "cell_type": "code",
      "source": [
        "#  Um deles é a célula de CÓDIGO, que aceita comandos em **Python** como esta daqui\n",
        "# <--- (Aperte o \"PLAY\")\n",
        "print('Olá Mundo!')"
      ],
      "metadata": {
        "id": "F6cZHwxAkbug"
      },
      "execution_count": null,
      "outputs": []
    },
    {
      "cell_type": "markdown",
      "source": [
        "####  O outro tipo é uma célula de texto (como esta),  que aceita texto e consegue interpretar a formatação do tipo [**Markdown**](https://docs.pipz.com/central-de-ajuda/learning-center/guia-basico-de-markdown#open). Utilize o \"duplo-clique\" para editar uma célula de texto e Shift+Enter para finalizar a edição."
      ],
      "metadata": {
        "id": "4_skemiuju51"
      }
    },
    {
      "cell_type": "markdown",
      "metadata": {
        "id": "iy7zOYq9wCaV"
      },
      "source": [
        "## 1. Importando bibliotecas, pacotes e funções"
      ]
    },
    {
      "cell_type": "code",
      "execution_count": null,
      "metadata": {
        "id": "IIU-keA3wCaW"
      },
      "outputs": [],
      "source": [
        "# Biblioteca de álgebra linear\n",
        "import numpy as np\n",
        "\n",
        "# Pacote de funções para plot\n",
        "import matplotlib.pyplot as plt\n",
        "\n",
        "# Função de Mínimos Quadrados ('Least Squares')\n",
        "from scipy.linalg import lstsq"
      ]
    },
    {
      "cell_type": "markdown",
      "metadata": {
        "id": "FE-ynE5zwCaY"
      },
      "source": [
        "<font color='red'>**Exercício:**</font>  importe a função **hamming** do pacote **signal** pertencente à biblioteca **scipy** já apelidando-a como \"ham\"."
      ]
    },
    {
      "cell_type": "code",
      "execution_count": null,
      "metadata": {
        "id": "QZ5vvChAwCaZ"
      },
      "outputs": [],
      "source": [
        "### INSIRA AQUI O CÓDIGO ###"
      ]
    },
    {
      "cell_type": "markdown",
      "metadata": {
        "id": "TX_6cwt8wCaZ"
      },
      "source": [
        "## 2. Tipos de dados"
      ]
    },
    {
      "cell_type": "code",
      "execution_count": null,
      "metadata": {
        "id": "KB4aVtK2wCaa"
      },
      "outputs": [],
      "source": [
        "# Inteiro\n",
        "type(3)"
      ]
    },
    {
      "cell_type": "code",
      "execution_count": null,
      "metadata": {
        "id": "c6zDv2lhwCab"
      },
      "outputs": [],
      "source": [
        "# Float\n",
        "type(3.23213)"
      ]
    },
    {
      "cell_type": "code",
      "execution_count": null,
      "metadata": {
        "id": "kTd1OwfHwCac"
      },
      "outputs": [],
      "source": [
        "# String\n",
        "type('Testing')"
      ]
    },
    {
      "cell_type": "code",
      "execution_count": null,
      "metadata": {
        "id": "kYx6_h6VwCad"
      },
      "outputs": [],
      "source": [
        "# List\n",
        "type([1,2,3])"
      ]
    },
    {
      "cell_type": "code",
      "execution_count": null,
      "metadata": {
        "id": "6OPrLBM_wCad"
      },
      "outputs": [],
      "source": [
        "type(np.array([1,2,3]))"
      ]
    },
    {
      "cell_type": "markdown",
      "metadata": {
        "id": "z3o5PqxKwCae"
      },
      "source": [
        "<font color='red'>**Exercício:**</font>  Crie uma variável ou estrutura de qualquer tipo, então verifique se ela está, de fato, com o tipo almejado por você no ato da criação."
      ]
    },
    {
      "cell_type": "code",
      "execution_count": null,
      "metadata": {
        "id": "d1pGgCp5wCae"
      },
      "outputs": [],
      "source": [
        "### INSIRA AQUI O CÓDIGO ###"
      ]
    },
    {
      "cell_type": "markdown",
      "metadata": {
        "id": "rpqki0lvwCae"
      },
      "source": [
        "## 3. Operações básicas"
      ]
    },
    {
      "cell_type": "code",
      "execution_count": null,
      "metadata": {
        "id": "Nfkfj6JdwCaf"
      },
      "outputs": [],
      "source": [
        "# Soma\n",
        "5 + 9"
      ]
    },
    {
      "cell_type": "code",
      "execution_count": null,
      "metadata": {
        "id": "7a3mFYK4wCaf"
      },
      "outputs": [],
      "source": [
        "# Subtração\n",
        "3 - 7"
      ]
    },
    {
      "cell_type": "code",
      "execution_count": null,
      "metadata": {
        "id": "y5UUu0yuwCag"
      },
      "outputs": [],
      "source": [
        "# Multiplicação\n",
        "2 * 4"
      ]
    },
    {
      "cell_type": "code",
      "execution_count": null,
      "metadata": {
        "id": "ks1nSvA3wCag"
      },
      "outputs": [],
      "source": [
        "# Divisão\n",
        "15 / 3"
      ]
    },
    {
      "cell_type": "markdown",
      "metadata": {
        "id": "sSdXAkjywCah"
      },
      "source": [
        "<font color='red'>**Exercício:**</font>  efetue algum cálculo envolvendo todas as operações básicas; tudo em uma mesma linha de código."
      ]
    },
    {
      "cell_type": "code",
      "execution_count": null,
      "metadata": {
        "id": "9sRLBxzBwCah"
      },
      "outputs": [],
      "source": [
        "### INSIRA AQUI O CÓDIGO ###"
      ]
    },
    {
      "cell_type": "markdown",
      "metadata": {
        "id": "E6Tc609AwCah"
      },
      "source": [
        "## 4. Manipulações com Listas"
      ]
    },
    {
      "cell_type": "markdown",
      "metadata": {
        "id": "pjdwbYeJwCah"
      },
      "source": [
        "### 4.1. Criando uma lista"
      ]
    },
    {
      "cell_type": "markdown",
      "metadata": {
        "id": "F5pwrpo_wCah"
      },
      "source": [
        "Estes são alguns exemplos típicos de listas em Python. L1 é uma lista simples; L2 é uma lista de listas de mesmo tamanho; L3 é uma lista de listas de diferentes tamanhos; e L4 é uma lista vazia."
      ]
    },
    {
      "cell_type": "code",
      "execution_count": null,
      "metadata": {
        "id": "NO4WhLrjwCai"
      },
      "outputs": [],
      "source": [
        "L1 = [1, 3, 7, 29]\n",
        "\n",
        "L2 = [[1,2,3], [4,5,6], [7,8,9]]\n",
        "\n",
        "L3 = [[1], [2,3], [4,5,6]]\n",
        "\n",
        "L4 = []"
      ]
    },
    {
      "cell_type": "markdown",
      "metadata": {
        "id": "7399sxAvwCai"
      },
      "source": [
        "### 4.2. Adicionando itens ao fim de uma lista"
      ]
    },
    {
      "cell_type": "code",
      "execution_count": null,
      "metadata": {
        "id": "RYGiIX_OwCai"
      },
      "outputs": [],
      "source": [
        "L_teste = []\n",
        "\n",
        "L_teste.append(5)\n",
        "L_teste.append([1,3])\n",
        "L_teste.append([[7,2], [9, 0]])\n",
        "\n",
        "\n",
        "print(L_teste)"
      ]
    },
    {
      "cell_type": "markdown",
      "metadata": {
        "id": "FcUGp-AowCai"
      },
      "source": [
        "### 4.3. Adicionando o conteúdo de uma lista ao fim de outra"
      ]
    },
    {
      "cell_type": "code",
      "execution_count": null,
      "metadata": {
        "id": "jugm3Qb6wCai"
      },
      "outputs": [],
      "source": [
        "L_teste_1 = []\n",
        "\n",
        "L_teste_2 = [3,4,5]\n",
        "L_teste_3 = [9,1,2,3,4,1]\n",
        "\n",
        "L_teste_1.extend(L_teste_2)\n",
        "\n",
        "print(L_teste_1)\n",
        "\n",
        "L_teste_1.extend(L_teste_3)\n",
        "\n",
        "print(L_teste_1)"
      ]
    },
    {
      "cell_type": "markdown",
      "metadata": {
        "id": "KuNs1qSewCaj"
      },
      "source": [
        "### 4.4. Encontrando a posição do primeiro item com determinado valor na lista"
      ]
    },
    {
      "cell_type": "code",
      "execution_count": null,
      "metadata": {
        "id": "6kFiytONwCaj"
      },
      "outputs": [],
      "source": [
        "L_teste = [7, 1, 2, 5, 2, 8, 9, 0, 3]\n",
        "\n",
        "L_teste.index(5)"
      ]
    },
    {
      "cell_type": "markdown",
      "metadata": {
        "id": "RpbC6SwhwCaj"
      },
      "source": [
        "### 4.5. Ordenando os itens da lista"
      ]
    },
    {
      "cell_type": "code",
      "execution_count": null,
      "metadata": {
        "id": "C_P2w3l1wCak"
      },
      "outputs": [],
      "source": [
        "L_teste = [3, 1, 4, 6, 7, 9]\n",
        "\n",
        "L_teste.sort()\n",
        "\n",
        "print(L_teste)\n",
        "\n",
        "L_teste.sort(reverse=True)\n",
        "\n",
        "print(L_teste)"
      ]
    },
    {
      "cell_type": "markdown",
      "metadata": {
        "id": "KvV_ipuYwCak"
      },
      "source": [
        "<font color='red'>**Exercício:**</font> crie duas novas listas de diferentes tamanhos, então adicione os elementos da segunda lista ao final da primeira lista e imprima a lista resultante e a posição de um dos números dessa lista. Por fim, ordene a lista resultante e imprima a lista e a posição do mesmo valor."
      ]
    },
    {
      "cell_type": "code",
      "execution_count": null,
      "metadata": {
        "id": "iv5u0tMGwCak"
      },
      "outputs": [],
      "source": [
        "### INSIRA AQUI O CÓDIGO ###"
      ]
    },
    {
      "cell_type": "markdown",
      "metadata": {
        "id": "DVc7XMzrwCak"
      },
      "source": [
        "## 5. Manipulações com Arrays (vetores ou matrizes)"
      ]
    },
    {
      "cell_type": "markdown",
      "metadata": {
        "id": "Rlmj-6z6wCak"
      },
      "source": [
        "### 5.1. Criando duas matrizes de dimensões 3x3"
      ]
    },
    {
      "cell_type": "code",
      "execution_count": null,
      "metadata": {
        "id": "DkyQHSZMwCal"
      },
      "outputs": [],
      "source": [
        "A = np.array([ [3, 4, 5], [6, 7, 8], [9, 0, 1] ])\n",
        "B = np.array([ [0, 1, 2], [3, 4, 5], [6, 7, 8] ])"
      ]
    },
    {
      "cell_type": "markdown",
      "metadata": {
        "id": "IQj17YcKwCal"
      },
      "source": [
        "### 5.2. Exibindo as matrizes"
      ]
    },
    {
      "cell_type": "markdown",
      "metadata": {
        "id": "CBvbksoKwCal"
      },
      "source": [
        "#### 5.2.1. Por completo"
      ]
    },
    {
      "cell_type": "code",
      "execution_count": null,
      "metadata": {
        "id": "0Xt93eJLwCal"
      },
      "outputs": [],
      "source": [
        "A"
      ]
    },
    {
      "cell_type": "code",
      "execution_count": null,
      "metadata": {
        "id": "0Iq8xGb9wCal"
      },
      "outputs": [],
      "source": [
        "B"
      ]
    },
    {
      "cell_type": "markdown",
      "metadata": {
        "id": "rgDvbfeiwCam"
      },
      "source": [
        "#### 5.2.2. Parcialmente"
      ]
    },
    {
      "cell_type": "code",
      "execution_count": null,
      "metadata": {
        "id": "qWa-9O9VwCam"
      },
      "outputs": [],
      "source": [
        "A[:, :2]"
      ]
    },
    {
      "cell_type": "code",
      "execution_count": null,
      "metadata": {
        "id": "VdGldj7mwCam"
      },
      "outputs": [],
      "source": [
        "B[1:, 1]"
      ]
    },
    {
      "cell_type": "markdown",
      "metadata": {
        "id": "z39FGVDWwCam"
      },
      "source": [
        "### 5.3. Soma de matrizes"
      ]
    },
    {
      "cell_type": "code",
      "execution_count": null,
      "metadata": {
        "id": "NuWpFfSwwCan"
      },
      "outputs": [],
      "source": [
        "A + B"
      ]
    },
    {
      "cell_type": "markdown",
      "metadata": {
        "id": "pqftWBjowCan"
      },
      "source": [
        "### 5.4. Subtração de matrizes"
      ]
    },
    {
      "cell_type": "code",
      "execution_count": null,
      "metadata": {
        "id": "wLmskLinwCan"
      },
      "outputs": [],
      "source": [
        "A - B"
      ]
    },
    {
      "cell_type": "markdown",
      "metadata": {
        "id": "utJSB8__wCan"
      },
      "source": [
        "### 5.5. Multiplicação de matriz por escalar"
      ]
    },
    {
      "cell_type": "code",
      "execution_count": null,
      "metadata": {
        "id": "SgIi05GawCan"
      },
      "outputs": [],
      "source": [
        "2 * A"
      ]
    },
    {
      "cell_type": "markdown",
      "metadata": {
        "id": "0fIBFsu1wCao"
      },
      "source": [
        "### 5.6. Produto escalar"
      ]
    },
    {
      "cell_type": "code",
      "execution_count": null,
      "metadata": {
        "id": "7bhmuuEhwCao"
      },
      "outputs": [],
      "source": [
        "np.dot(A, B)"
      ]
    },
    {
      "cell_type": "markdown",
      "metadata": {
        "id": "8WIc4vpAwCao"
      },
      "source": [
        "### 5.7. Produto vetorial"
      ]
    },
    {
      "cell_type": "code",
      "execution_count": null,
      "metadata": {
        "id": "_ruSx5kXwCao"
      },
      "outputs": [],
      "source": [
        "np.cross(A, B)"
      ]
    },
    {
      "cell_type": "markdown",
      "metadata": {
        "id": "6jIsuFt7wCao"
      },
      "source": [
        "### 5.8. Transposição"
      ]
    },
    {
      "cell_type": "markdown",
      "metadata": {
        "id": "v4-IEzxlwCao"
      },
      "source": [
        "#### 5.8.1. Utilizando a biblioteca Numpy"
      ]
    },
    {
      "cell_type": "code",
      "execution_count": null,
      "metadata": {
        "id": "lWqEG_VWwCap"
      },
      "outputs": [],
      "source": [
        "np.transpose(A)"
      ]
    },
    {
      "cell_type": "markdown",
      "metadata": {
        "id": "UwZXDhdmwCap"
      },
      "source": [
        "#### 5.8.2. Utilizando a transposição do próprio Python"
      ]
    },
    {
      "cell_type": "code",
      "execution_count": null,
      "metadata": {
        "id": "fXeAZknBwCap"
      },
      "outputs": [],
      "source": [
        "A.T"
      ]
    },
    {
      "cell_type": "markdown",
      "metadata": {
        "id": "C4sgTmL0wCap"
      },
      "source": [
        "### 5.9. Inversão"
      ]
    },
    {
      "cell_type": "code",
      "execution_count": null,
      "metadata": {
        "id": "13LlRHIqwCap"
      },
      "outputs": [],
      "source": [
        "np.invert(A)"
      ]
    },
    {
      "cell_type": "markdown",
      "metadata": {
        "id": "bQZ3-kIfwCaq"
      },
      "source": [
        "### 5.10. Verificando as dimensões ('shape') da matriz"
      ]
    },
    {
      "cell_type": "code",
      "execution_count": null,
      "metadata": {
        "id": "cEqk7BtSwCaq"
      },
      "outputs": [],
      "source": [
        "A.shape"
      ]
    },
    {
      "cell_type": "markdown",
      "metadata": {
        "id": "kOxDAKE2wCaq"
      },
      "source": [
        "### 5.11. Adicionando novas linhas ao fim de uma matriz já existente"
      ]
    },
    {
      "cell_type": "code",
      "execution_count": null,
      "metadata": {
        "id": "xsZIxSgHwCaq"
      },
      "outputs": [],
      "source": [
        "np.row_stack((A, np.array([1, 3, 7])))"
      ]
    },
    {
      "cell_type": "markdown",
      "metadata": {
        "id": "NOSKRrZYwCaq"
      },
      "source": [
        "### 5.12. Adicionando novas colunas ao fim de uma matriz já existente"
      ]
    },
    {
      "cell_type": "code",
      "execution_count": null,
      "metadata": {
        "id": "H2l1EYX0wCaq"
      },
      "outputs": [],
      "source": [
        "np.column_stack((A, np.array([1, 3, 7])))"
      ]
    },
    {
      "cell_type": "markdown",
      "metadata": {
        "id": "RvsDH0T2wCar"
      },
      "source": [
        "<font color='red'>**Exercício:**</font> crie dois arrays 3x2, então calcule o produto escalar de um deles pela transposta do outro e imprima a primeira linha do array resultante."
      ]
    },
    {
      "cell_type": "code",
      "execution_count": null,
      "metadata": {
        "id": "6eDNeOPrwCar"
      },
      "outputs": [],
      "source": [
        "### INSIRA AQUI O CÓDIGO ###"
      ]
    },
    {
      "cell_type": "markdown",
      "metadata": {
        "id": "Ewwk22JGwCar"
      },
      "source": [
        "## 6. Gerando um sinal e plotando gráficos"
      ]
    },
    {
      "cell_type": "markdown",
      "metadata": {
        "id": "hNe4nmeOwCar"
      },
      "source": [
        "### 6.1. Gerando um vetor de 50 posições, igualmente \"espaçadas\", com valores de 0 a 6$\\pi$"
      ]
    },
    {
      "cell_type": "code",
      "execution_count": null,
      "metadata": {
        "id": "GlkEJcDbwCar"
      },
      "outputs": [],
      "source": [
        "x = np.linspace(0, 6 * np.pi, 50)"
      ]
    },
    {
      "cell_type": "markdown",
      "metadata": {
        "id": "WKJOkgp_wCar"
      },
      "source": [
        "### 6.2. Gerando um sinal senoidal a partir das posições do vetor anteriormente criado"
      ]
    },
    {
      "cell_type": "code",
      "execution_count": null,
      "metadata": {
        "id": "gNoBaj2rwCas"
      },
      "outputs": [],
      "source": [
        "y = np.sin(x)"
      ]
    },
    {
      "cell_type": "markdown",
      "metadata": {
        "id": "QvM0-J54wCas"
      },
      "source": [
        "### 6.3. Plotando o sinal"
      ]
    },
    {
      "cell_type": "code",
      "execution_count": null,
      "metadata": {
        "id": "de3ZdrP5wCas"
      },
      "outputs": [],
      "source": [
        "plt.plot(x, y, label='cos(t)')\n",
        "plt.legend()\n",
        "plt.title('Sinal Senoidal')\n",
        "plt.xlabel('Tempo')\n",
        "plt.ylabel('Valor')"
      ]
    },
    {
      "cell_type": "markdown",
      "metadata": {
        "id": "oUFZGd0twCas"
      },
      "source": [
        "### 6.4 Plotando o gráfico de dispersão ('Scatter')"
      ]
    },
    {
      "cell_type": "code",
      "execution_count": null,
      "metadata": {
        "id": "pbooj1rWwCas"
      },
      "outputs": [],
      "source": [
        "plt.scatter(x, y, label='cos(t)')\n",
        "plt.legend()\n",
        "plt.title('Sinal Senoidal')\n",
        "plt.xlabel('Tempo')\n",
        "plt.ylabel('Valor')"
      ]
    },
    {
      "cell_type": "markdown",
      "metadata": {
        "id": "OLcDto4zwCat"
      },
      "source": [
        "### 6.5. Plotando gráficos de hastes ou ramos ('Stem')"
      ]
    },
    {
      "cell_type": "code",
      "execution_count": null,
      "metadata": {
        "id": "DqhemWtmwCat"
      },
      "outputs": [],
      "source": [
        "markerline, stemlines, baseline = plt.stem(x, y, label='cos(t)')\n",
        "plt.setp(markerline, color='r')\n",
        "plt.setp(stemlines, color='g', linewidth=3)\n",
        "plt.setp(baseline, color='b', linewidth=2)\n",
        "plt.legend()\n",
        "plt.title('Sinal Senoidal')\n",
        "plt.xlabel('Tempo')\n",
        "plt.ylabel('Valor')"
      ]
    },
    {
      "cell_type": "markdown",
      "metadata": {
        "id": "rMT2VlKBwCat"
      },
      "source": [
        "### 6.6. Plotando múltiplos gráficos em uma única figura"
      ]
    },
    {
      "cell_type": "code",
      "execution_count": null,
      "metadata": {
        "id": "0Paru8CkwCat"
      },
      "outputs": [],
      "source": [
        "plt.plot(x, y, label='cos(t)')\n",
        "plt.plot(x, 2 * y, label='2 * cos(t)')\n",
        "plt.legend()\n",
        "plt.title('Sinais Senoidais')\n",
        "plt.xlabel('Tempo')\n",
        "plt.ylabel('Valor')"
      ]
    },
    {
      "cell_type": "markdown",
      "metadata": {
        "id": "xTVOBK2ZwCat"
      },
      "source": [
        "<font color='red'>**Exercício:**</font> gere três sinais diferentes, então faça o plot, o gráfico de dispersão e o diagrama de hastes; apenas um tipo para cada sinal."
      ]
    },
    {
      "cell_type": "code",
      "execution_count": null,
      "metadata": {
        "id": "PDXbI60QwCau"
      },
      "outputs": [],
      "source": [
        "### INSIRA AQUI O CÓDIGO ###"
      ]
    },
    {
      "cell_type": "markdown",
      "metadata": {
        "id": "N2ciwNlzwCau"
      },
      "source": [
        "## 7. Condicionais (if, elif e else)"
      ]
    },
    {
      "cell_type": "code",
      "execution_count": null,
      "metadata": {
        "id": "-XT0LRYvwCau"
      },
      "outputs": [],
      "source": [
        "n = 5\n",
        "\n",
        "if n < 4:\n",
        "    print('Low')\n",
        "elif n == 4:\n",
        "    print('Mid')\n",
        "else:\n",
        "    print('High')"
      ]
    },
    {
      "cell_type": "markdown",
      "metadata": {
        "id": "AWPRv7CuwCau"
      },
      "source": [
        "## 8. Laços de repetição"
      ]
    },
    {
      "cell_type": "markdown",
      "metadata": {
        "id": "L8LMOnL6wCav"
      },
      "source": [
        "### 8.1. For"
      ]
    },
    {
      "cell_type": "code",
      "execution_count": null,
      "metadata": {
        "id": "O1bEqjywwCav"
      },
      "outputs": [],
      "source": [
        "for x in range(10):\n",
        "    print(x)"
      ]
    },
    {
      "cell_type": "code",
      "execution_count": null,
      "metadata": {
        "id": "boS7Ei4AwCav"
      },
      "outputs": [],
      "source": [
        "K = [1, 3, 7, 11, 19]\n",
        "\n",
        "for x in K:\n",
        "    print(x)"
      ]
    },
    {
      "cell_type": "code",
      "execution_count": null,
      "metadata": {
        "id": "1VMGsh4ZwCav"
      },
      "outputs": [],
      "source": [
        "KK = [[1,3,2,5], [4,8,7,12]]\n",
        "\n",
        "for x in KK:\n",
        "    print(x)"
      ]
    },
    {
      "cell_type": "markdown",
      "metadata": {
        "id": "kx5l_OpiwCaw"
      },
      "source": [
        "### 8.2. While"
      ]
    },
    {
      "cell_type": "code",
      "execution_count": null,
      "metadata": {
        "id": "exP2CnejwCaw"
      },
      "outputs": [],
      "source": [
        "i = 0\n",
        "\n",
        "while i < 5:\n",
        "    print(i)\n",
        "    i += 1"
      ]
    },
    {
      "cell_type": "markdown",
      "metadata": {
        "id": "70hr9vqNwCaw"
      },
      "source": [
        "## 9. Definindo funções"
      ]
    },
    {
      "cell_type": "markdown",
      "metadata": {
        "id": "SKQ_zGr0wCaw"
      },
      "source": [
        "### 9.1. Simples"
      ]
    },
    {
      "cell_type": "markdown",
      "metadata": {
        "id": "s_-V3_1owCaw"
      },
      "source": [
        "Esta é a definição de um exemplo bastante simples, que apenas retorna o resultado da soma dos dois números de entrada."
      ]
    },
    {
      "cell_type": "code",
      "execution_count": null,
      "metadata": {
        "id": "Ux9ljgH6wCaw"
      },
      "outputs": [],
      "source": [
        "def soma(a, b):\n",
        "    return a + b"
      ]
    },
    {
      "cell_type": "markdown",
      "metadata": {
        "id": "46RvoncRwCax"
      },
      "source": [
        "Agora, que a função já está definida, ela está pronta para ser usada neste Notebook, independentemente da célula em que seja invocada."
      ]
    },
    {
      "cell_type": "code",
      "execution_count": null,
      "metadata": {
        "id": "gl8GpTFQwCax"
      },
      "outputs": [],
      "source": [
        "soma(7, 8)"
      ]
    },
    {
      "cell_type": "markdown",
      "metadata": {
        "id": "OumdFBldwCax"
      },
      "source": [
        "### 9.2. Com valores padrão"
      ]
    },
    {
      "cell_type": "markdown",
      "metadata": {
        "id": "7LHpKkXHwCax"
      },
      "source": [
        "Funções em Python podem ter variáveis de entrada com valores padrão, o que faz com que o usuário não precise entrar com o valor correspondente à variável de entrada em questão, desde que se deseje utilizar o valor padrão."
      ]
    },
    {
      "cell_type": "code",
      "execution_count": null,
      "metadata": {
        "id": "hwp7v3xFwCax"
      },
      "outputs": [],
      "source": [
        "def soma_padrao(a, b=3):\n",
        "    return a + b"
      ]
    },
    {
      "cell_type": "markdown",
      "metadata": {
        "id": "Oo39w2tVwCax"
      },
      "source": [
        "Pela função soma_padrao(), se forem utilizados os dois argumentos de entrada, o seu funcionamento é o mesmo da função soma(), porém, ao se utilizar um único argumento de entrada, a função passa a considerar o valor padrão para a segunda entrada (não fornecida pelo usuário)."
      ]
    },
    {
      "cell_type": "code",
      "execution_count": null,
      "metadata": {
        "id": "96rQ-42YwCay"
      },
      "outputs": [],
      "source": [
        "soma_padrao(7, 8)"
      ]
    },
    {
      "cell_type": "code",
      "execution_count": null,
      "metadata": {
        "id": "PmEGdm6LwCay"
      },
      "outputs": [],
      "source": [
        "soma_padrao(7)"
      ]
    },
    {
      "cell_type": "markdown",
      "metadata": {
        "id": "Y-MhMal4wCay"
      },
      "source": [
        "<font color='red'>**Exercício:**</font> crie uma função que utilize ao menos um condicional e ao menos um laço de repetição, além de ter pelo menos uma variável de entrada com valor padrão. Então, em outra célula, utilize a função criada para mostrar que funciona adequadamente."
      ]
    },
    {
      "cell_type": "code",
      "execution_count": null,
      "metadata": {
        "id": "6E_jxeTTwCay"
      },
      "outputs": [],
      "source": [
        "### INSIRA AQUI O CÓDIGO DA FUNÇÃO ###"
      ]
    },
    {
      "cell_type": "code",
      "execution_count": null,
      "metadata": {
        "id": "njD1HQ9DwCay"
      },
      "outputs": [],
      "source": [
        "### INSIRA AQUI O CÓDIGO DE TESTE ###"
      ]
    },
    {
      "cell_type": "markdown",
      "metadata": {
        "id": "UPMjcrOuwCaz"
      },
      "source": [
        "## 10. Ajuda"
      ]
    },
    {
      "cell_type": "markdown",
      "metadata": {
        "id": "_aR3xq5-wCaz"
      },
      "source": [
        "#### Procurem consultar as documentações correspondentes para entender como funcionam as funções.\n",
        "\n",
        "* [Python](https://docs.python.org/3.6/)\n",
        "* [Numpy](https://docs.scipy.org/doc/numpy/reference/)\n",
        "* [Scipy](https://docs.scipy.org/doc/scipy/reference/)\n",
        "* [OpenCV](https://docs.opencv.org/4.9.0/)"
      ]
    },
    {
      "cell_type": "markdown",
      "metadata": {
        "id": "hG-GhrgdwCaz"
      },
      "source": [
        "Utilizando a própria linguagem Python também é possível obter ajuda quando se quer saber como funciona uma dada função. Para isso, basta utilizar a função $help()$ com o nome da função que deseja pesquisar. Por exemplo, caso se deseje saber mais sobre a função $linspace()$ da biblioteca Numpy, pode-se pesquisar assim:"
      ]
    },
    {
      "cell_type": "code",
      "execution_count": null,
      "metadata": {
        "id": "SoNCpaVJwCaz"
      },
      "outputs": [],
      "source": [
        "help(np.linspace)"
      ]
    },
    {
      "cell_type": "markdown",
      "metadata": {
        "id": "Stc7LvDEwCaz"
      },
      "source": [
        "#### Outras fontes também podem ser consultadas."
      ]
    },
    {
      "cell_type": "markdown",
      "metadata": {
        "id": "iz4JPBKgwCaz"
      },
      "source": [
        "* [StackOverflow](https://stackoverflow.com/)\n",
        "* [Quora](https://www.quora.com/)"
      ]
    }
  ]
}