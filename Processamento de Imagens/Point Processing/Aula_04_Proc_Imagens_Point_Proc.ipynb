{
  "nbformat": 4,
  "nbformat_minor": 0,
  "metadata": {
    "colab": {
      "provenance": []
    },
    "kernelspec": {
      "name": "python3",
      "display_name": "Python 3"
    },
    "language_info": {
      "name": "python"
    }
  },
  "cells": [
    {
      "cell_type": "markdown",
      "source": [
        "# Processamento de Imagens\n",
        "\n",
        "# Aula 4 - Técnicas de Tranformação \"ponto-a-ponto\" - Point Processing"
      ],
      "metadata": {
        "id": "2MdBr7jPHX8Y"
      }
    },
    {
      "cell_type": "markdown",
      "source": [
        "Nome Completo:\n",
        "\n",
        "RGM:\n",
        "\n",
        "Data:"
      ],
      "metadata": {
        "id": "nFnNshNzHX8i"
      }
    },
    {
      "cell_type": "markdown",
      "metadata": {
        "id": "DVc7XMzrwCak"
      },
      "source": [
        "## **Parte 1. Importação de bibliotecas e manipulação das imagens**"
      ]
    },
    {
      "cell_type": "code",
      "source": [
        "# Biblioteca OpenCV para manipulação de imagens\n",
        "import cv2 as cv\n",
        "from google.colab.patches import cv2_imshow # função imshow \"adaptada\" para poder funcionar no Colab\n",
        "import numpy as np\n",
        "\n",
        "# Pacote de funções para plot\n",
        "import matplotlib.pylab as plt\n",
        "\n",
        "# Pacote para importar as imagens\n",
        "import imageio as io\n",
        "\n",
        "url = \"https://www.cruzeirodosul.edu.br/wp-content/uploads/2020/11/campus_guarulhos_nossasunidades2-b.jpg\"\n",
        "img = io.imread(url);"
      ],
      "metadata": {
        "id": "KgOrathFO1bA"
      },
      "execution_count": null,
      "outputs": []
    },
    {
      "cell_type": "markdown",
      "source": [
        "Visualizando a imagem com a biblioteca *matplotlib*"
      ],
      "metadata": {
        "id": "Tn8GVKPBUL1s"
      }
    },
    {
      "cell_type": "code",
      "source": [
        "plt.figure(figsize = (18,6))\n",
        "plt.imshow(img);"
      ],
      "metadata": {
        "id": "XVYPiS8eUH0-"
      },
      "execution_count": null,
      "outputs": []
    },
    {
      "cell_type": "markdown",
      "source": [
        "Visualizando a imagem com a bibliote OpenCV"
      ],
      "metadata": {
        "id": "-9giC61CUSIk"
      }
    },
    {
      "cell_type": "code",
      "source": [
        "cv2_imshow(img);\n",
        "\n",
        "img2 = cv.cvtColor(img, cv.COLOR_BGR2RGB)\n",
        "cv2_imshow(img2);"
      ],
      "metadata": {
        "id": "kyzQNF10USek"
      },
      "execution_count": null,
      "outputs": []
    },
    {
      "cell_type": "markdown",
      "source": [
        "Transformação da image para a escala de cinza"
      ],
      "metadata": {
        "id": "6f2jv-zFVbj6"
      }
    },
    {
      "cell_type": "code",
      "source": [
        "gray_img = cv.cvtColor(img, cv.COLOR_BGR2GRAY)\n",
        "cv2_imshow(gray_img)\n",
        "\n",
        "plt.figure(figsize = (18,6))\n",
        "plt.imshow(gray_img, cmap='gray', vmin=0, vmax=255);"
      ],
      "metadata": {
        "id": "_P2OpMo8VZIP"
      },
      "execution_count": null,
      "outputs": []
    },
    {
      "cell_type": "markdown",
      "source": [
        "## **Parte 2 - Inversão de Imagens**"
      ],
      "metadata": {
        "id": "VM6gP-OpHX8j"
      }
    },
    {
      "cell_type": "code",
      "source": [
        "url = \"https://i.stack.imgur.com/TPVnd.png\"\n",
        "img = io.imread(url);\n",
        "cv2_imshow(img)"
      ],
      "metadata": {
        "id": "I7MmdNFyaC3M"
      },
      "execution_count": null,
      "outputs": []
    },
    {
      "cell_type": "markdown",
      "source": [
        "Inversão bit a bit (bitwise)\n",
        "\n",
        "\n",
        "\n",
        "```\n",
        "# NOT 0111  (decimal 7)\n",
        "    = 1000    (decimal 8)\n",
        "```\n",
        "\n"
      ],
      "metadata": {
        "id": "KnLbPX9bYCl9"
      }
    },
    {
      "cell_type": "code",
      "source": [
        "inv_img = cv.bitwise_not(img)\n",
        "cv2_imshow(inv_img)"
      ],
      "metadata": {
        "id": "tcBbnuPTaElF"
      },
      "execution_count": null,
      "outputs": []
    },
    {
      "cell_type": "markdown",
      "source": [
        "Operação de inversão do valor de cinza:\n",
        "\n",
        "$$ s = 1.0 - r$$"
      ],
      "metadata": {
        "id": "9nIyxt9hYdUv"
      }
    },
    {
      "cell_type": "code",
      "source": [
        "inv_img2 = (255 - img)\n",
        "cv2_imshow(inv_img2)"
      ],
      "metadata": {
        "id": "lQOpI5hLWorN"
      },
      "execution_count": null,
      "outputs": []
    },
    {
      "cell_type": "markdown",
      "source": [
        "## **Parte 3 - Limiarização (Thresholding)**"
      ],
      "metadata": {
        "id": "_YIH8bNQYKzU"
      }
    },
    {
      "cell_type": "markdown",
      "source": [
        "Se o valor do pixel for maior que o limiar \"k\" a saída é 1.0 (ou 255), caso contrário a saída será 0.0 (ou 0)."
      ],
      "metadata": {
        "id": "bY6yTfRTgM2x"
      }
    },
    {
      "cell_type": "code",
      "source": [
        "url = \"https://img.freepik.com/premium-vector/white-black-gradient-square-shape_118124-11165.jpg\"\n",
        "img = io.imread(url);\n",
        "img = cv.resize(img, (300, 300), interpolation = cv.INTER_NEAREST)\n",
        "cv2_imshow(img)"
      ],
      "metadata": {
        "id": "wx2YQDejWpRU"
      },
      "execution_count": null,
      "outputs": []
    },
    {
      "cell_type": "code",
      "source": [
        "k, thresh = cv.threshold(img,90,255,cv.THRESH_BINARY) # (imagem, limiar k, valor se verdadeiro, tipo de threshold)\n",
        "cv2_imshow(thresh)"
      ],
      "metadata": {
        "id": "68jCHOZdc_zq"
      },
      "execution_count": null,
      "outputs": []
    },
    {
      "cell_type": "markdown",
      "source": [
        "<font color='red'>**Exercício:**</font> Implemente sua própria função de limiarização e aplique 4 valores diferentes de threshold para a seguinte imagem:"
      ],
      "metadata": {
        "id": "t_hyR94qhKCJ"
      }
    },
    {
      "cell_type": "code",
      "source": [
        "url = \"https://media.cheggcdn.com/media/df3/df3c284b-a776-404a-81e7-96f6487c383f/phpONQILA\"\n",
        "img = io.imread(url);\n",
        "img = cv.cvtColor(img, cv.COLOR_BGR2GRAY)\n",
        "# img = cv.resize(img, (450, 429), interpolation = cv.INTER_NEAREST)\n",
        "cv2_imshow(img)"
      ],
      "metadata": {
        "id": "Kafa6qbCha_m"
      },
      "execution_count": null,
      "outputs": []
    },
    {
      "cell_type": "code",
      "source": [
        "### INSIRA AQUI O SEU CÓDIGO ###"
      ],
      "metadata": {
        "id": "D6ma1NwXiKtm"
      },
      "execution_count": null,
      "outputs": []
    },
    {
      "cell_type": "markdown",
      "source": [
        "## **Parte 4 - Transformação Logaritmica**"
      ],
      "metadata": {
        "id": "ZCOZ8ukESAgX"
      }
    },
    {
      "cell_type": "markdown",
      "source": [
        "$$s = c * \\log(1 + r)$$"
      ],
      "metadata": {
        "id": "AAb0rflODhXb"
      }
    },
    {
      "cell_type": "code",
      "source": [
        "url = \"https://pe-images.s3.amazonaws.com/photo-editing/cc/tone-and-color/brightness-contrast/image-uselegacyoff-brightnessmin.jpg\"\n",
        "img = io.imread(url);\n",
        "img = cv.cvtColor(img, cv.COLOR_BGR2GRAY)\n",
        "img = cv.resize(img, (320, 242), interpolation = cv.INTER_CUBIC)\n",
        "cv2_imshow(img)"
      ],
      "metadata": {
        "id": "6U09PDSmWpyk"
      },
      "execution_count": null,
      "outputs": []
    },
    {
      "cell_type": "code",
      "source": [
        "c = 255 / np.log(1 + np.max(img))\n",
        "\n",
        "# Aplicação da transformação log\n",
        "log_img = c * (np.log(img + 1))\n",
        "\n",
        "# Especificar tipo \"uint8\" pois os resultados de da função log sairam em float\n",
        "log_img = np.array(log_img, dtype = np.uint8)\n",
        "\n",
        "cv2_imshow(log_img)"
      ],
      "metadata": {
        "id": "VnIg2wdHs_iZ"
      },
      "execution_count": null,
      "outputs": []
    },
    {
      "cell_type": "markdown",
      "source": [
        "Variação da \"curva\"\n",
        "\n",
        "m = valor máximo do pixel (255 para 8bits)\n",
        "b = \"modificador\"\n",
        "\n",
        "$c = \\frac{m}{\\ln(1+mb)}$\n",
        "\n",
        "$ s = c*log(br + 1)$"
      ],
      "metadata": {
        "id": "KFKN4hsJG-9N"
      }
    },
    {
      "cell_type": "code",
      "source": [
        "m = 255\n",
        "b = 0.01\n",
        "c = m / np.log(1 + (b*np.max(img)))\n",
        "\n",
        "# Aplicação da transformação log\n",
        "log_img = c * (np.log((b*img) + 1))\n",
        "\n",
        "# Especificar tipo \"uint8\" pois os resultados de da função log sairam em float\n",
        "log_img = np.array(log_img, dtype = np.uint8)\n",
        "\n",
        "cv2_imshow(log_img)"
      ],
      "metadata": {
        "id": "QFlQILPpHBZZ"
      },
      "execution_count": null,
      "outputs": []
    },
    {
      "cell_type": "markdown",
      "metadata": {
        "id": "ni-M_jsNA9dw"
      },
      "source": [
        "## **Parte 5. Aplicação da lei de potência**"
      ]
    },
    {
      "cell_type": "code",
      "source": [
        "url = \"sample_image.png\"\n",
        "img = io.imread(url);\n",
        "cv2_imshow(img);"
      ],
      "metadata": {
        "id": "i8a67nHLR3gs"
      },
      "execution_count": null,
      "outputs": []
    },
    {
      "cell_type": "code",
      "source": [
        "max = 255;\n",
        "gama = 6.5;\n",
        "c = max/(max**gama);\n",
        "img_power = c*img**gama;\n",
        "\n",
        "cv2_imshow(img_power);"
      ],
      "metadata": {
        "id": "6VbbhReRXmZe"
      },
      "execution_count": null,
      "outputs": []
    },
    {
      "cell_type": "markdown",
      "source": [
        "<font color='red'>**Exercício:**</font> Com base no exemplo do gráfico abaixo mostre as diferentes curvas de lei de potência para os seguinte valores de gama:\n",
        "\n",
        "\n",
        "*   Gama = 0.6;\n",
        "*   Gama = 0.4;\n",
        "*   Gama = 1;\n",
        "*   Gama = 1.5;\n",
        "*   Gama = 2.5;\n",
        "\n",
        "Mostre todas as curvas num mesmo gráfico e reponda:\n",
        "\n",
        "1.   O que acontecerá na imagem de saída quando o valor de gama é igual a 1?\n",
        "2.   O que acontecerá na imagem de saída quando o valor de gama é está entre 0 e 1?\n",
        "3. O que acontecerá na imagem de saída quando o valor de gama é maior que 1?"
      ],
      "metadata": {
        "id": "phTLXs2qA9d0"
      }
    },
    {
      "cell_type": "code",
      "source": [
        "max = 1;\n",
        "r = np.arange(0,max,0.01);\n",
        "gama = 1;\n",
        "c = max/(max**gama);\n",
        "s = c*r**gama;\n",
        "\n",
        "plt.figure(figsize = (6,6))\n",
        "plt.plot(r,s);\n",
        "plt.grid(True)\n",
        "plt.xlabel(\"Valor de entrada (r)\");\n",
        "plt.ylabel(\"Valor de saída (s)\");\n",
        "plt.legend(['gama = 1'])"
      ],
      "metadata": {
        "id": "UL0MEF-gA9d1"
      },
      "execution_count": null,
      "outputs": []
    }
  ]
}