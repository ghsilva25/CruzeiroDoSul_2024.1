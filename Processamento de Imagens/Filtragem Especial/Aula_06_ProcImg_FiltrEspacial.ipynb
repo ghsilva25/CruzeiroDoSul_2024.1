{
  "nbformat": 4,
  "nbformat_minor": 0,
  "metadata": {
    "colab": {
      "provenance": []
    },
    "kernelspec": {
      "name": "python3",
      "display_name": "Python 3"
    },
    "language_info": {
      "name": "python"
    }
  },
  "cells": [
    {
      "cell_type": "markdown",
      "source": [
        "# Processamento de Imagens\n",
        "\n",
        "# Aula 6 - Filtragem Espacial"
      ],
      "metadata": {
        "id": "2MdBr7jPHX8Y"
      }
    },
    {
      "cell_type": "markdown",
      "source": [
        "Nome Completo:\n",
        "\n",
        "RGM:\n",
        "\n",
        "Data:"
      ],
      "metadata": {
        "id": "nFnNshNzHX8i"
      }
    },
    {
      "cell_type": "markdown",
      "metadata": {
        "id": "DVc7XMzrwCak"
      },
      "source": [
        "## **Parte 1. Filtragem Espacial**"
      ]
    },
    {
      "cell_type": "code",
      "source": [
        "# Biblioteca OpenCV para manipulação de imagens\n",
        "import cv2 as cv\n",
        "from google.colab.patches import cv2_imshow # função imshow \"adaptada\" para poder funcionar no Colab\n",
        "import numpy as np\n",
        "\n",
        "# Pacote de funções para plot\n",
        "import matplotlib.pylab as plt\n",
        "\n",
        "# Pacote para importar as imagens\n",
        "import imageio as io"
      ],
      "metadata": {
        "id": "KgOrathFO1bA"
      },
      "execution_count": null,
      "outputs": []
    },
    {
      "cell_type": "markdown",
      "metadata": {
        "id": "1Ql0oOWclFqt"
      },
      "source": [
        "Leitura e exibição da imagem original."
      ]
    },
    {
      "cell_type": "code",
      "source": [
        "url = \"https://www.cruzeirodosul.edu.br/wp-content/uploads/2020/11/campus_guarulhos_nossasunidades2-b.jpg\"\n",
        "\n",
        "img = io.imread(url);\n",
        "img = cv.cvtColor(img, cv.COLOR_BGR2GRAY);\n",
        "cv2_imshow(img);"
      ],
      "metadata": {
        "id": "i8a67nHLR3gs"
      },
      "execution_count": null,
      "outputs": []
    },
    {
      "cell_type": "markdown",
      "metadata": {
        "id": "zqyaR1o6dPts"
      },
      "source": [
        "## Kernel Identidade\n",
        "\n",
        "Um 'kernel' é uma matriz que representa um subconjunto da imagem. Geralmente possuem um tamano MxN, sendo M e N valores ímpares. Neste exemplo são usados M=3 e N=3, portanto um kernel de tamanho 3x3.\n",
        "\n",
        "O kernel identidade retorna uma copia exata da imagem original. É composto por uma matriz onde o elemento centrla é igual a 1 e os demais elementos igual a zero.\n",
        "\n",
        "a função ```filter2D()``` pode ser utilizada para aplicar um kernel à uma imagem\n",
        "\n",
        "A sintaxe da função é a seguinte:\n",
        "``result = cv2.filter2D(fonte, ddepth, kernel)``\n",
        "\n",
        "Onde ddepth está relacionado com o bit depth da imagem resultante. Utilize ddepth como -1 para menter os mesmos parâmetros da imagem original na imagem resultante.\n",
        "\n",
        "<img src='https://upload.wikimedia.org/wikipedia/commons/1/19/2D_Convolution_Animation.gif'>\n"
      ]
    },
    {
      "cell_type": "code",
      "metadata": {
        "id": "veanncPpdSu-"
      },
      "source": [
        "kernel = np.array([[0, 0, 0],\n",
        "                   [0, 1, 0],\n",
        "                   [0, 0, 0]])\n",
        "\n",
        "identity = cv.filter2D(src=img, ddepth=-1, kernel=kernel)"
      ],
      "execution_count": null,
      "outputs": []
    },
    {
      "cell_type": "code",
      "source": [
        "plt.figure(figsize=(15,15))\n",
        "plt.subplot(121)\n",
        "plt.imshow(img, cmap=\"gray\")\n",
        "plt.title('Original')\n",
        "plt.axis(\"off\")\n",
        "\n",
        "plt.subplot(122)\n",
        "plt.imshow(identity, cmap=\"gray\")\n",
        "plt.title('Identity')\n",
        "plt.axis(\"off\")"
      ],
      "metadata": {
        "id": "AzgX6HDSQ7Mz"
      },
      "execution_count": null,
      "outputs": []
    },
    {
      "cell_type": "markdown",
      "metadata": {
        "id": "xZAi1VKuijmK"
      },
      "source": [
        "## Blur a partir do kernel\n",
        "\n",
        "Para \"borrar\" uma imagem (blur), será utilizada uma matriz 3x3 composta por 1s, dividindo pela quantidade de elementos que a mesma posui (média). Por exemplo, uma matriz 3x3 possui 9 elementos. Para aumentar a intensidade do blur, utilize uma matriz maior."
      ]
    },
    {
      "cell_type": "code",
      "source": [
        "url = \"https://expertphotography.b-cdn.net/wp-content/uploads/2018/09/texture-photography-wood-bark.jpg\"\n",
        "\n",
        "img = io.imread(url);\n",
        "img = cv.cvtColor(img, cv.COLOR_BGR2GRAY);\n",
        "cv2_imshow(img);"
      ],
      "metadata": {
        "id": "E2EX-wjcTpnG"
      },
      "execution_count": null,
      "outputs": []
    },
    {
      "cell_type": "code",
      "metadata": {
        "id": "vVK5wqQpjrg9"
      },
      "source": [
        "kernel = np.array([[1, 1, 1],\n",
        "                   [1, 1, 1],\n",
        "                   [1, 1, 1]])\n",
        "\n",
        "kernel = kernel / 9;\n",
        "\n",
        "# kernel = np.ones((5, 5), np.float32) / 25\n",
        "\n",
        "blur_kern = cv.filter2D(src=img, ddepth=-1, kernel=kernel)"
      ],
      "execution_count": null,
      "outputs": []
    },
    {
      "cell_type": "code",
      "source": [
        "plt.figure(figsize=(15,15))\n",
        "plt.subplot(121)\n",
        "plt.imshow(img, cmap='gray')\n",
        "plt.title('Original')\n",
        "plt.axis(\"off\")\n",
        "\n",
        "plt.subplot(122)\n",
        "plt.imshow(blur_kern, cmap='gray')\n",
        "plt.title('Blurred')\n",
        "plt.axis(\"off\")"
      ],
      "metadata": {
        "id": "Gh5BCxLxRHTg"
      },
      "execution_count": null,
      "outputs": []
    },
    {
      "cell_type": "markdown",
      "metadata": {
        "id": "cEy3zId4mFbI"
      },
      "source": [
        "Utilizando a função blur do OpenCV na imagem\n",
        "\n",
        "Sintaxe da função:\n",
        "``dest = blur(source, kernel_size)``"
      ]
    },
    {
      "cell_type": "code",
      "source": [
        "img_blur = cv.blur(src=img, ksize=(3,3))"
      ],
      "metadata": {
        "id": "PH_URHxSRh8G"
      },
      "execution_count": null,
      "outputs": []
    },
    {
      "cell_type": "code",
      "metadata": {
        "id": "Qjy3xo7em7VM"
      },
      "source": [
        "plt.figure(figsize=(15,15))\n",
        "plt.subplot(121)\n",
        "plt.imshow(img, cmap='gray')\n",
        "plt.title('Original')\n",
        "plt.axis(\"off\")\n",
        "\n",
        "plt.subplot(122)\n",
        "plt.imshow(img_blur, cmap='gray')\n",
        "plt.title('Blurred')\n",
        "plt.axis(\"off\")"
      ],
      "execution_count": null,
      "outputs": []
    },
    {
      "cell_type": "markdown",
      "metadata": {
        "id": "L3I-5ZEhGbV-"
      },
      "source": [
        "## Blur Gaussiano\n",
        "\n",
        "Nesta aplicação, a imagem é borrada e o contraste reduzido.\n",
        "\n",
        "A sintaxe da função é\n",
        "``dst\t=\tcv2.GaussianBlur(src, kernel_size, sigmaX, sigmaY)``\n",
        "\n",
        "Onde sigmaX e sigmaY são os devios padrão em relação aos eixos X e Y do kernel Gaussiano, respectivamente.\n",
        "\n",
        "Se os dois sigmas forem zero, os mesmos serão computados a partir dos parametros ksize.width e ksize.height, respectivamente. Se apenas sigmaY for zero, é atribuito para que seja igual ao sigmaX.\n",
        "\n",
        "<img src='https://miro.medium.com/v2/resize:fit:4192/1*PaZx8eCc7bWaERP6eP5JjA.png'>"
      ]
    },
    {
      "cell_type": "code",
      "source": [
        "url = \"https://expertphotography.b-cdn.net/wp-content/uploads/2018/09/texture-photography-walk-woods.jpg\"\n",
        "\n",
        "img = io.imread(url);\n",
        "img = cv.cvtColor(img, cv.COLOR_BGR2GRAY);\n",
        "cv2_imshow(img);"
      ],
      "metadata": {
        "id": "9gtccv07Sm02"
      },
      "execution_count": null,
      "outputs": []
    },
    {
      "cell_type": "code",
      "metadata": {
        "id": "c1hAOSlGn7iV"
      },
      "source": [
        "blur = cv.GaussianBlur(src=img,ksize=(3,3),sigmaX=0)\n",
        "\n",
        "plt.figure(figsize=(15,15))\n",
        "plt.subplot(121)\n",
        "plt.imshow(img, cmap='gray')\n",
        "plt.title('Original')\n",
        "plt.axis(\"off\")\n",
        "\n",
        "plt.subplot(122)\n",
        "plt.imshow(blur, cmap='gray')\n",
        "plt.title('Gaussian blur')\n",
        "plt.axis(\"off\")"
      ],
      "execution_count": null,
      "outputs": []
    },
    {
      "cell_type": "markdown",
      "metadata": {
        "id": "_TJvU9f5QOWq"
      },
      "source": [
        "## Blur pela Mediana\n",
        "\n",
        "É similar ao blur com kernel; o elemento central da imagem é substituido por uma mediana dos pixels da vizinhança.\n",
        "\n",
        "A sintaxe da função é:\n",
        "``dest = cv2.medianBlur(src, kernel_size).``"
      ]
    },
    {
      "cell_type": "code",
      "source": [
        "url = \"https://raw.githubusercontent.com/MeteHanC/Python-Median-Filter/master/Screenshots/noisyimg.png\"\n",
        "\n",
        "img = io.imread(url);\n",
        "# img = cv.cvtColor(img, cv.COLOR_BGR2GRAY);\n",
        "cv2_imshow(img);"
      ],
      "metadata": {
        "id": "LH4eRPIWS6KW"
      },
      "execution_count": null,
      "outputs": []
    },
    {
      "cell_type": "code",
      "metadata": {
        "id": "8yGH1u7atbF1"
      },
      "source": [
        "median = cv.medianBlur(src=img, ksize=5)\n",
        "\n",
        "plt.figure(figsize=(15,15))\n",
        "plt.subplot(121)\n",
        "plt.imshow(img, cmap='gray')\n",
        "plt.title('Original')\n",
        "plt.axis(\"off\")\n",
        "\n",
        "plt.subplot(122)\n",
        "plt.imshow(median, cmap='gray')\n",
        "plt.title('Median blur')\n",
        "plt.axis(\"off\")"
      ],
      "execution_count": null,
      "outputs": []
    },
    {
      "cell_type": "code",
      "source": [],
      "metadata": {
        "id": "6064PXXPd4Bm"
      },
      "execution_count": null,
      "outputs": []
    }
  ]
}